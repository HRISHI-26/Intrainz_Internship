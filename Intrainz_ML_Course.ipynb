{
  "nbformat": 4,
  "nbformat_minor": 0,
  "metadata": {
    "colab": {
      "provenance": []
    },
    "kernelspec": {
      "name": "python3",
      "display_name": "Python 3"
    },
    "language_info": {
      "name": "python"
    }
  },
  "cells": [
    {
      "cell_type": "markdown",
      "source": [
        "#Fundamentals to Python programming"
      ],
      "metadata": {
        "id": "YYGFpY2-jxSr"
      }
    },
    {
      "cell_type": "code",
      "execution_count": 91,
      "metadata": {
        "id": "vz8Kb6imYuXM",
        "colab": {
          "base_uri": "https://localhost:8080/"
        },
        "outputId": "b7eae4f3-f719-4a62-ed12-1008a6846ba5"
      },
      "outputs": [
        {
          "output_type": "execute_result",
          "data": {
            "text/plain": [
              "str"
            ]
          },
          "metadata": {},
          "execution_count": 91
        }
      ],
      "source": [
        "# Variable\n",
        "\n",
        "var = \"This is a variable\"\n",
        "# variable = literal|value\n",
        "\n",
        "type(var)"
      ]
    },
    {
      "cell_type": "markdown",
      "source": [
        "#Data Structures"
      ],
      "metadata": {
        "id": "BaR6SjzLyCmn"
      }
    },
    {
      "cell_type": "markdown",
      "source": [
        "##List"
      ],
      "metadata": {
        "id": "sEMWGWJwyh9O"
      }
    },
    {
      "cell_type": "code",
      "source": [
        "L = [\"Hello\", \"World\", 1, 2, 3]\n",
        "P = [4, 5, 6]\n",
        "\n",
        "# to access a value at an index\n",
        "L[2]\n",
        "L\n"
      ],
      "metadata": {
        "colab": {
          "base_uri": "https://localhost:8080/"
        },
        "id": "KERe-L8myA5G",
        "outputId": "e2564cfc-b415-4fdd-d7ed-a8cd64a65323"
      },
      "execution_count": 92,
      "outputs": [
        {
          "output_type": "execute_result",
          "data": {
            "text/plain": [
              "['Hello', 'World', 1, 2, 3]"
            ]
          },
          "metadata": {},
          "execution_count": 92
        }
      ]
    },
    {
      "cell_type": "code",
      "source": [
        "# OPERATIONS OF LIST\n",
        "\n",
        "L.pop() # returns last value\n",
        "L\n",
        "# L.count() # returns\n",
        "# L.sort()\n",
        "\n",
        "L.append(\"Python\") # insert a new value to list\n",
        "L\n",
        "\n",
        "L.extend(P) # merge 2 lists\n",
        "L\n",
        "\n",
        "L.remove(\"Python\") # remove first or an element\n",
        "L\n",
        "\n",
        "L.insert(3,\"Three\") # insert an element at specific position\n",
        "L\n",
        "\n",
        "L.reverse # reverse the entire list\n",
        "L\n",
        "\n",
        "L.clear() # completely remove all the elements\n",
        "L"
      ],
      "metadata": {
        "id": "6VzBGnCxEaen",
        "colab": {
          "base_uri": "https://localhost:8080/"
        },
        "outputId": "c853b8d0-b2bf-4590-92b7-698e809a1113"
      },
      "execution_count": 93,
      "outputs": [
        {
          "output_type": "execute_result",
          "data": {
            "text/plain": [
              "[]"
            ]
          },
          "metadata": {},
          "execution_count": 93
        }
      ]
    },
    {
      "cell_type": "markdown",
      "source": [
        "##Dictionaries"
      ],
      "metadata": {
        "id": "yNjESZg33GPD"
      }
    },
    {
      "cell_type": "code",
      "source": [
        "D = {\"name\":\"Python\", \"age\":25, \"place\":\"America\"}\n",
        "\n",
        "# To access a particular value\n",
        "D[\"place\"]\n",
        "D\n",
        "\n",
        "D.get(\"place\")\n",
        "D"
      ],
      "metadata": {
        "colab": {
          "base_uri": "https://localhost:8080/"
        },
        "id": "39naKYGi3EzU",
        "outputId": "575671da-88be-468c-d852-b55181991a59"
      },
      "execution_count": 94,
      "outputs": [
        {
          "output_type": "execute_result",
          "data": {
            "text/plain": [
              "{'name': 'Python', 'age': 25, 'place': 'America'}"
            ]
          },
          "metadata": {},
          "execution_count": 94
        }
      ]
    },
    {
      "cell_type": "code",
      "source": [
        "#OPERATIONS OF DICTIONARY\n",
        "\n",
        "D.keys() #To access all the keys\n",
        "D\n",
        "\n",
        "D.values() #To access all the values\n",
        "D\n",
        "\n",
        "D.pop(\"age\") #To delete a specific key:value pair\n",
        "D\n",
        "\n",
        "D.update({\"name\":\"Python Programming\"}) #To update specific key:value pair\n",
        "D\n",
        "\n",
        "D.popitem() #To pop last item\n",
        "D\n",
        "\n",
        "D.setdefault(\"newkey\")\n",
        "D\n",
        "\n",
        "D.clear() #to empty dictionary"
      ],
      "metadata": {
        "id": "Dlco8DJmE1YO"
      },
      "execution_count": 95,
      "outputs": []
    },
    {
      "cell_type": "markdown",
      "source": [
        "##Strings"
      ],
      "metadata": {
        "id": "9uRPcefxGT9o"
      }
    },
    {
      "cell_type": "code",
      "source": [
        "string = \"this is a string\"\n",
        "\n",
        "#Accessing Values\n",
        "string[0]\n",
        "string[-1]"
      ],
      "metadata": {
        "colab": {
          "base_uri": "https://localhost:8080/",
          "height": 0
        },
        "id": "xc1I6b3aGXxd",
        "outputId": "8641c27f-daf2-4f75-dcc5-61daf664460b"
      },
      "execution_count": 96,
      "outputs": [
        {
          "output_type": "execute_result",
          "data": {
            "text/plain": [
              "'g'"
            ],
            "application/vnd.google.colaboratory.intrinsic+json": {
              "type": "string"
            }
          },
          "metadata": {},
          "execution_count": 96
        }
      ]
    },
    {
      "cell_type": "code",
      "source": [
        "#Slicing\n",
        "string[8:]\n",
        "\n",
        "string[5:9]"
      ],
      "metadata": {
        "colab": {
          "base_uri": "https://localhost:8080/",
          "height": 0
        },
        "id": "EdYfLMViHZ_o",
        "outputId": "45376979-bb32-4fea-a422-ba91be363344"
      },
      "execution_count": 97,
      "outputs": [
        {
          "output_type": "execute_result",
          "data": {
            "text/plain": [
              "'is a'"
            ],
            "application/vnd.google.colaboratory.intrinsic+json": {
              "type": "string"
            }
          },
          "metadata": {},
          "execution_count": 97
        }
      ]
    },
    {
      "cell_type": "code",
      "source": [
        "string.capitalize() #To capitalize first letter\n",
        "\n",
        "string.upper() #To convert whole string into capital letters\n",
        "\n",
        "string.lower() #To convert whole string into small letters\n",
        "\n",
        "string.isupper() #To check if string only contains capital letters\n",
        "\n",
        "string.islower() #To check if string only contain small letters\n",
        "\n",
        "string.isalnum() #To check if string contains alphabets and numbers\n",
        "\n",
        "string.isalpha() #To check if string contains alphabets only\n",
        "\n",
        "string.isdigit() #To check if string contains numbers only\n",
        "\n",
        "string.index(\"s\") #To get the index of a letter\n",
        "\n",
        "string.replace(\"t\",\"T\") #To replace a letter in a string\n",
        "\n",
        "string.strip() #To strip any blank space before or after string if any { lstrip, rstrip}\n",
        "\n",
        "string.find(\"s\") #To find index of a letter in a string"
      ],
      "metadata": {
        "colab": {
          "base_uri": "https://localhost:8080/"
        },
        "id": "MnT2U9qPUqgY",
        "outputId": "f048551c-597c-406d-c383-683701c9ec9c"
      },
      "execution_count": 98,
      "outputs": [
        {
          "output_type": "execute_result",
          "data": {
            "text/plain": [
              "3"
            ]
          },
          "metadata": {},
          "execution_count": 98
        }
      ]
    },
    {
      "cell_type": "markdown",
      "source": [
        "##Tuple"
      ],
      "metadata": {
        "id": "iqB6o16qi5iq"
      }
    },
    {
      "cell_type": "code",
      "source": [
        "T = (1, 2, 3, 4, 5)\n",
        "type(T)"
      ],
      "metadata": {
        "colab": {
          "base_uri": "https://localhost:8080/"
        },
        "id": "Ts9WbqLZi8Xc",
        "outputId": "55f684c2-cb97-4a07-cc54-07c2e0abdd77"
      },
      "execution_count": 99,
      "outputs": [
        {
          "output_type": "execute_result",
          "data": {
            "text/plain": [
              "tuple"
            ]
          },
          "metadata": {},
          "execution_count": 99
        }
      ]
    },
    {
      "cell_type": "markdown",
      "source": [
        "##Sets"
      ],
      "metadata": {
        "id": "ZhD1Dy1CsbAX"
      }
    },
    {
      "cell_type": "code",
      "source": [
        "S = {1, 2, 3, 4, 5}\n",
        "type(S)"
      ],
      "metadata": {
        "colab": {
          "base_uri": "https://localhost:8080/"
        },
        "id": "phJg-AmrsdrU",
        "outputId": "e62c2787-c4fe-40b7-bd59-07e441adb90f"
      },
      "execution_count": 100,
      "outputs": [
        {
          "output_type": "execute_result",
          "data": {
            "text/plain": [
              "set"
            ]
          },
          "metadata": {},
          "execution_count": 100
        }
      ]
    },
    {
      "cell_type": "code",
      "source": [
        "Ns = {1, 2, 3, 4, 9, 0, 5}\n"
      ],
      "metadata": {
        "id": "DiVVRxttuUrr"
      },
      "execution_count": 101,
      "outputs": []
    },
    {
      "cell_type": "code",
      "source": [
        "S.intersection(Ns)\n",
        "S.union(Ns)\n",
        "S.difference(Ns)\n",
        "\n",
        "Ns.issubset(S)"
      ],
      "metadata": {
        "colab": {
          "base_uri": "https://localhost:8080/"
        },
        "id": "qdeCjzvnuejL",
        "outputId": "e2fed792-ec82-4559-f5a3-d6663267f06d"
      },
      "execution_count": 102,
      "outputs": [
        {
          "output_type": "execute_result",
          "data": {
            "text/plain": [
              "False"
            ]
          },
          "metadata": {},
          "execution_count": 102
        }
      ]
    },
    {
      "cell_type": "markdown",
      "source": [
        "##Type Casting"
      ],
      "metadata": {
        "id": "aoW_pBewtB82"
      }
    },
    {
      "cell_type": "code",
      "source": [
        "set(T)"
      ],
      "metadata": {
        "colab": {
          "base_uri": "https://localhost:8080/"
        },
        "id": "upG-1xxftEt9",
        "outputId": "55818533-11ae-4285-b9cf-613d0847a7ac"
      },
      "execution_count": 103,
      "outputs": [
        {
          "output_type": "execute_result",
          "data": {
            "text/plain": [
              "{1, 2, 3, 4, 5}"
            ]
          },
          "metadata": {},
          "execution_count": 103
        }
      ]
    },
    {
      "cell_type": "code",
      "source": [
        "tuple(S)"
      ],
      "metadata": {
        "colab": {
          "base_uri": "https://localhost:8080/"
        },
        "id": "uLEav_DctwCC",
        "outputId": "7207ac09-0bcb-4576-a9d9-417a44b38a26"
      },
      "execution_count": 104,
      "outputs": [
        {
          "output_type": "execute_result",
          "data": {
            "text/plain": [
              "(1, 2, 3, 4, 5)"
            ]
          },
          "metadata": {},
          "execution_count": 104
        }
      ]
    },
    {
      "cell_type": "code",
      "source": [
        "list(tuple(S))"
      ],
      "metadata": {
        "colab": {
          "base_uri": "https://localhost:8080/"
        },
        "id": "cSpE5Z_TtzrB",
        "outputId": "5a406c59-dcbf-4714-a58d-f7a4638471f2"
      },
      "execution_count": 105,
      "outputs": [
        {
          "output_type": "execute_result",
          "data": {
            "text/plain": [
              "[1, 2, 3, 4, 5]"
            ]
          },
          "metadata": {},
          "execution_count": 105
        }
      ]
    },
    {
      "cell_type": "markdown",
      "source": [
        "#Loops and Conditionals"
      ],
      "metadata": {
        "id": "jHWcdnPDzF_r"
      }
    },
    {
      "cell_type": "markdown",
      "source": [
        "##Conditionals"
      ],
      "metadata": {
        "id": "Dma-c8yszNGd"
      }
    },
    {
      "cell_type": "code",
      "source": [
        "num = 20\n",
        "if num < 0:\n",
        "  print(\"Negative\")\n",
        "elif num == 0:\n",
        "  print(\"Zero\")\n",
        "else:\n",
        "  print(\"Positive\")"
      ],
      "metadata": {
        "colab": {
          "base_uri": "https://localhost:8080/"
        },
        "id": "aeCx8AXtt2cA",
        "outputId": "0eb8b532-3225-42ee-f81a-e0daaff502b5"
      },
      "execution_count": 106,
      "outputs": [
        {
          "output_type": "stream",
          "name": "stdout",
          "text": [
            "Positive\n"
          ]
        }
      ]
    },
    {
      "cell_type": "code",
      "source": [
        "if True:\n",
        "  print(\"Inside If\")\n",
        "  if True:\n",
        "    print(\"Nested if\")\n",
        "  else:\n",
        "    print(\"Nested else\")\n",
        "else:\n",
        "  print(\"Inside Else\")"
      ],
      "metadata": {
        "colab": {
          "base_uri": "https://localhost:8080/"
        },
        "id": "cubWCNh033N7",
        "outputId": "bb81040a-5c0e-4b65-907f-0b39f0f28667"
      },
      "execution_count": 107,
      "outputs": [
        {
          "output_type": "stream",
          "name": "stdout",
          "text": [
            "Inside If\n",
            "Nested if\n"
          ]
        }
      ]
    },
    {
      "cell_type": "code",
      "source": [
        "num = 30\n",
        "\n",
        "if num%2 == 0 and num%5 == 0:\n",
        "  print(\"Num is divisible by 2 and 5\")\n",
        "elif num%2 == 0 or num%5 == 0:\n",
        "  print(\"Num is divisible by 2 or 5\")"
      ],
      "metadata": {
        "colab": {
          "base_uri": "https://localhost:8080/"
        },
        "id": "P7HgaWU25z6x",
        "outputId": "ded5cfe9-551e-452e-863c-9b337bec0999"
      },
      "execution_count": 108,
      "outputs": [
        {
          "output_type": "stream",
          "name": "stdout",
          "text": [
            "Num is divisible by 2 and 5\n"
          ]
        }
      ]
    },
    {
      "cell_type": "code",
      "source": [
        "if num!=0:\n",
        "  print(\"Not zero\")"
      ],
      "metadata": {
        "colab": {
          "base_uri": "https://localhost:8080/"
        },
        "id": "60pgAoaP5_6f",
        "outputId": "afac0fad-62c7-42b1-97a5-2a7ea6eab93c"
      },
      "execution_count": 109,
      "outputs": [
        {
          "output_type": "stream",
          "name": "stdout",
          "text": [
            "Not zero\n"
          ]
        }
      ]
    },
    {
      "cell_type": "markdown",
      "source": [
        "##Loops"
      ],
      "metadata": {
        "id": "yuJXTngR6XO9"
      }
    },
    {
      "cell_type": "code",
      "source": [
        "for i in range(5):\n",
        "  print(i)"
      ],
      "metadata": {
        "colab": {
          "base_uri": "https://localhost:8080/"
        },
        "id": "ZuqYNa9d6ZtS",
        "outputId": "c56b325a-3451-4f24-82b4-0573df37b797"
      },
      "execution_count": 110,
      "outputs": [
        {
          "output_type": "stream",
          "name": "stdout",
          "text": [
            "0\n",
            "1\n",
            "2\n",
            "3\n",
            "4\n"
          ]
        }
      ]
    },
    {
      "cell_type": "code",
      "source": [
        "List = [\"Hello\", \"welcome\", \"to\", \"the\", \"world\", \"of\", \"Python\", \"programming\"]\n",
        "for i in List:\n",
        "  print(i)"
      ],
      "metadata": {
        "colab": {
          "base_uri": "https://localhost:8080/"
        },
        "id": "Ib59ZjNl7u-R",
        "outputId": "dba2fa61-786c-4185-fdff-5b86011678c1"
      },
      "execution_count": 111,
      "outputs": [
        {
          "output_type": "stream",
          "name": "stdout",
          "text": [
            "Hello\n",
            "welcome\n",
            "to\n",
            "the\n",
            "world\n",
            "of\n",
            "Python\n",
            "programming\n"
          ]
        }
      ]
    },
    {
      "cell_type": "code",
      "source": [
        "i = 0\n",
        "while i<3:\n",
        "  print(i)\n",
        "  i=i+1"
      ],
      "metadata": {
        "colab": {
          "base_uri": "https://localhost:8080/"
        },
        "id": "VfNWQ_x98Rqk",
        "outputId": "b7c263a6-f0e5-40ae-ec48-331c263e462a"
      },
      "execution_count": 112,
      "outputs": [
        {
          "output_type": "stream",
          "name": "stdout",
          "text": [
            "0\n",
            "1\n",
            "2\n"
          ]
        }
      ]
    },
    {
      "cell_type": "markdown",
      "source": [
        "##Program"
      ],
      "metadata": {
        "id": "9ePyiNXN9lhJ"
      }
    },
    {
      "cell_type": "code",
      "source": [
        "for i in range(101):\n",
        "  if i%10 == 0:\n",
        "    print(i)"
      ],
      "metadata": {
        "colab": {
          "base_uri": "https://localhost:8080/"
        },
        "id": "6Hrb61Ac9kJp",
        "outputId": "288f7e4a-cfcd-4534-bb18-3cd8a918a352"
      },
      "execution_count": 113,
      "outputs": [
        {
          "output_type": "stream",
          "name": "stdout",
          "text": [
            "0\n",
            "10\n",
            "20\n",
            "30\n",
            "40\n",
            "50\n",
            "60\n",
            "70\n",
            "80\n",
            "90\n",
            "100\n"
          ]
        }
      ]
    },
    {
      "cell_type": "markdown",
      "source": [
        "#Error Handling"
      ],
      "metadata": {
        "id": "-42Pcmo4-x4-"
      }
    },
    {
      "cell_type": "code",
      "source": [
        "for i in range(10):\n",
        "  try:\n",
        "    print(15/i)\n",
        "  except ZeroDivisionError:\n",
        "    print(\"Division by zero is infinity\")"
      ],
      "metadata": {
        "colab": {
          "base_uri": "https://localhost:8080/"
        },
        "id": "GJ67HyZw-5dS",
        "outputId": "b32ed3a7-1389-4e03-bd07-796986abb80e"
      },
      "execution_count": 114,
      "outputs": [
        {
          "output_type": "stream",
          "name": "stdout",
          "text": [
            "Division by zero is infinity\n",
            "15.0\n",
            "7.5\n",
            "5.0\n",
            "3.75\n",
            "3.0\n",
            "2.5\n",
            "2.142857142857143\n",
            "1.875\n",
            "1.6666666666666667\n"
          ]
        }
      ]
    },
    {
      "cell_type": "code",
      "source": [
        "List = [\"Hello\", \"World\", \"Python\", \"Programming\"]\n",
        "\n",
        "for i in range(len(List)+1):\n",
        "  try:\n",
        "    print(List[i])\n",
        "  except IndexError:\n",
        "    print(\"Index out of range\")"
      ],
      "metadata": {
        "colab": {
          "base_uri": "https://localhost:8080/"
        },
        "id": "v1R3r3kKDE8b",
        "outputId": "bba28317-af2d-493e-b368-8cea935f6b06"
      },
      "execution_count": 115,
      "outputs": [
        {
          "output_type": "stream",
          "name": "stdout",
          "text": [
            "Hello\n",
            "World\n",
            "Python\n",
            "Programming\n",
            "Index out of range\n"
          ]
        }
      ]
    },
    {
      "cell_type": "code",
      "source": [
        "# Standard Method\n",
        "\n",
        "List = [\"Hello\", \"World\", \"Python\", \"Programming\"]\n",
        "\n",
        "for i in range(len(List)+1):\n",
        "  try:\n",
        "    print(List[i])\n",
        "  except Exception as e:\n",
        "    print(e)"
      ],
      "metadata": {
        "colab": {
          "base_uri": "https://localhost:8080/"
        },
        "id": "r-9fUz-vPGe8",
        "outputId": "43f7cc80-991d-494d-900b-6101df54c29c"
      },
      "execution_count": 116,
      "outputs": [
        {
          "output_type": "stream",
          "name": "stdout",
          "text": [
            "Hello\n",
            "World\n",
            "Python\n",
            "Programming\n",
            "list index out of range\n"
          ]
        }
      ]
    },
    {
      "cell_type": "code",
      "source": [
        "List = [\"Hello\", \"World\", \"Python\", \"Programming\"]\n",
        "\n",
        "for i in range(len(List)+1):\n",
        "  try:\n",
        "    print(List[i])\n",
        "  except Exception as e:\n",
        "    print(e)\n",
        "  finally:\n",
        "    print(\"Excecution completed\")"
      ],
      "metadata": {
        "colab": {
          "base_uri": "https://localhost:8080/"
        },
        "id": "yNZ5uW_aPyaV",
        "outputId": "42c4fc15-874c-4925-d0dd-42e7ade5b4ba"
      },
      "execution_count": 117,
      "outputs": [
        {
          "output_type": "stream",
          "name": "stdout",
          "text": [
            "Hello\n",
            "Excecution completed\n",
            "World\n",
            "Excecution completed\n",
            "Python\n",
            "Excecution completed\n",
            "Programming\n",
            "Excecution completed\n",
            "list index out of range\n",
            "Excecution completed\n"
          ]
        }
      ]
    },
    {
      "cell_type": "code",
      "source": [
        "def abc(a,b):\n",
        "  try:\n",
        "    c = a/b\n",
        "  except Exception as e:\n",
        "    print(e)\n",
        "  else:\n",
        "    print(c)\n",
        "\n",
        "abc(10,0)\n",
        "abc(1,2)"
      ],
      "metadata": {
        "colab": {
          "base_uri": "https://localhost:8080/"
        },
        "id": "gHufTMOsQjCY",
        "outputId": "61a9b0bc-d82c-4289-963e-b2a66c120e4d"
      },
      "execution_count": 118,
      "outputs": [
        {
          "output_type": "stream",
          "name": "stdout",
          "text": [
            "division by zero\n",
            "0.5\n"
          ]
        }
      ]
    },
    {
      "cell_type": "code",
      "source": [
        "# Raise an error\n",
        "\n",
        "def zeroNotAllowed(a,b):\n",
        "  if a==0 or b==0:\n",
        "    raise ValueError(\"Zero are not allowed\")\n",
        "  else:\n",
        "    print(\"Its Okay\")\n",
        "\n",
        "zeroNotAllowed(1,2)\n",
        "zeroNotAllowed(5,0)"
      ],
      "metadata": {
        "colab": {
          "base_uri": "https://localhost:8080/",
          "height": 358
        },
        "id": "KqFJtUmxROpN",
        "outputId": "d41fc23c-5a9f-494a-c8e1-e049106a1e11"
      },
      "execution_count": 120,
      "outputs": [
        {
          "output_type": "stream",
          "name": "stdout",
          "text": [
            "Its Okay\n"
          ]
        },
        {
          "output_type": "error",
          "ename": "ValueError",
          "evalue": "Zero are not allowed",
          "traceback": [
            "\u001b[0;31m---------------------------------------------------------------------------\u001b[0m",
            "\u001b[0;31mValueError\u001b[0m                                Traceback (most recent call last)",
            "\u001b[0;32m<ipython-input-120-80a5751cf48a>\u001b[0m in \u001b[0;36m<cell line: 10>\u001b[0;34m()\u001b[0m\n\u001b[1;32m      8\u001b[0m \u001b[0;34m\u001b[0m\u001b[0m\n\u001b[1;32m      9\u001b[0m \u001b[0mzeroNotAllowed\u001b[0m\u001b[0;34m(\u001b[0m\u001b[0;36m1\u001b[0m\u001b[0;34m,\u001b[0m\u001b[0;36m2\u001b[0m\u001b[0;34m)\u001b[0m\u001b[0;34m\u001b[0m\u001b[0;34m\u001b[0m\u001b[0m\n\u001b[0;32m---> 10\u001b[0;31m \u001b[0mzeroNotAllowed\u001b[0m\u001b[0;34m(\u001b[0m\u001b[0;36m5\u001b[0m\u001b[0;34m,\u001b[0m\u001b[0;36m0\u001b[0m\u001b[0;34m)\u001b[0m\u001b[0;34m\u001b[0m\u001b[0;34m\u001b[0m\u001b[0m\n\u001b[0m",
            "\u001b[0;32m<ipython-input-120-80a5751cf48a>\u001b[0m in \u001b[0;36mzeroNotAllowed\u001b[0;34m(a, b)\u001b[0m\n\u001b[1;32m      3\u001b[0m \u001b[0;32mdef\u001b[0m \u001b[0mzeroNotAllowed\u001b[0m\u001b[0;34m(\u001b[0m\u001b[0ma\u001b[0m\u001b[0;34m,\u001b[0m\u001b[0mb\u001b[0m\u001b[0;34m)\u001b[0m\u001b[0;34m:\u001b[0m\u001b[0;34m\u001b[0m\u001b[0;34m\u001b[0m\u001b[0m\n\u001b[1;32m      4\u001b[0m   \u001b[0;32mif\u001b[0m \u001b[0ma\u001b[0m\u001b[0;34m==\u001b[0m\u001b[0;36m0\u001b[0m \u001b[0;32mor\u001b[0m \u001b[0mb\u001b[0m\u001b[0;34m==\u001b[0m\u001b[0;36m0\u001b[0m\u001b[0;34m:\u001b[0m\u001b[0;34m\u001b[0m\u001b[0;34m\u001b[0m\u001b[0m\n\u001b[0;32m----> 5\u001b[0;31m     \u001b[0;32mraise\u001b[0m \u001b[0mValueError\u001b[0m\u001b[0;34m(\u001b[0m\u001b[0;34m\"Zero are not allowed\"\u001b[0m\u001b[0;34m)\u001b[0m\u001b[0;34m\u001b[0m\u001b[0;34m\u001b[0m\u001b[0m\n\u001b[0m\u001b[1;32m      6\u001b[0m   \u001b[0;32melse\u001b[0m\u001b[0;34m:\u001b[0m\u001b[0;34m\u001b[0m\u001b[0;34m\u001b[0m\u001b[0m\n\u001b[1;32m      7\u001b[0m     \u001b[0mprint\u001b[0m\u001b[0;34m(\u001b[0m\u001b[0;34m\"Its Okay\"\u001b[0m\u001b[0;34m)\u001b[0m\u001b[0;34m\u001b[0m\u001b[0;34m\u001b[0m\u001b[0m\n",
            "\u001b[0;31mValueError\u001b[0m: Zero are not allowed"
          ]
        }
      ]
    },
    {
      "cell_type": "markdown",
      "source": [],
      "metadata": {
        "id": "ONlR_0-pYQDr"
      }
    },
    {
      "cell_type": "markdown",
      "source": [
        "#Functions"
      ],
      "metadata": {
        "id": "FxBysXbXYSfv"
      }
    },
    {
      "cell_type": "markdown",
      "source": [
        "##Built In Functions"
      ],
      "metadata": {
        "id": "Hc9QrgzzYY3C"
      }
    },
    {
      "cell_type": "code",
      "source": [
        "lists = [10, 20, 30, 40, 50]\n",
        "\n",
        "max(lists)\n",
        "min(lists)\n",
        "\n",
        "x = input(\"Enter something: \")\n",
        "print(x)"
      ],
      "metadata": {
        "colab": {
          "base_uri": "https://localhost:8080/"
        },
        "id": "au2WYSSPYXFY",
        "outputId": "3bcabb2a-b81a-43b6-9a92-d1a4e0711b62"
      },
      "execution_count": 128,
      "outputs": [
        {
          "output_type": "stream",
          "name": "stdout",
          "text": [
            "Enter something: Machine Learning\n",
            "Machine Learning\n"
          ]
        }
      ]
    },
    {
      "cell_type": "code",
      "source": [
        "eval(\"2*3+4\")"
      ],
      "metadata": {
        "colab": {
          "base_uri": "https://localhost:8080/"
        },
        "id": "pWVy5bguZM7_",
        "outputId": "552bc59f-8914-4a7d-ae99-6f96ecfc5eb0"
      },
      "execution_count": 132,
      "outputs": [
        {
          "output_type": "execute_result",
          "data": {
            "text/plain": [
              "10"
            ]
          },
          "metadata": {},
          "execution_count": 132
        }
      ]
    },
    {
      "cell_type": "code",
      "source": [
        "# To find ASCII value\n",
        "ord(\"A\")"
      ],
      "metadata": {
        "colab": {
          "base_uri": "https://localhost:8080/"
        },
        "id": "SQkydKNZaY5L",
        "outputId": "a5f1df5a-c8c8-4629-a14c-933dcfe984a8"
      },
      "execution_count": 135,
      "outputs": [
        {
          "output_type": "execute_result",
          "data": {
            "text/plain": [
              "65"
            ]
          },
          "metadata": {},
          "execution_count": 135
        }
      ]
    },
    {
      "cell_type": "code",
      "source": [
        "print(\"This is a built in function in python\")"
      ],
      "metadata": {
        "colab": {
          "base_uri": "https://localhost:8080/"
        },
        "id": "z84K8VkCamN0",
        "outputId": "9b2d10fb-b097-4d5b-d8cc-1b333e0c3c37"
      },
      "execution_count": 137,
      "outputs": [
        {
          "output_type": "stream",
          "name": "stdout",
          "text": [
            "This is a built in function in python\n"
          ]
        }
      ]
    },
    {
      "cell_type": "markdown",
      "source": [
        "##User Defined Function"
      ],
      "metadata": {
        "id": "vcBuBQaxa5zx"
      }
    },
    {
      "cell_type": "code",
      "source": [
        "def sum(a,b):\n",
        "  return a+b\n",
        "\n",
        "sum(1,2)"
      ],
      "metadata": {
        "colab": {
          "base_uri": "https://localhost:8080/"
        },
        "id": "oR1K2ghAauL7",
        "outputId": "c893f8fd-0c6e-46b7-c1ff-531b1c631509"
      },
      "execution_count": 139,
      "outputs": [
        {
          "output_type": "execute_result",
          "data": {
            "text/plain": [
              "3"
            ]
          },
          "metadata": {},
          "execution_count": 139
        }
      ]
    },
    {
      "cell_type": "code",
      "source": [
        "def sumOfMany(*args):\n",
        "  s = 0\n",
        "  for i in args:\n",
        "    s = s + i\n",
        "  return s\n",
        "\n",
        "sumOfMany(1, 2, 3, 4)"
      ],
      "metadata": {
        "colab": {
          "base_uri": "https://localhost:8080/"
        },
        "id": "mRUJmEFidI04",
        "outputId": "c0ca8065-ef95-4228-959b-bca5a116436d"
      },
      "execution_count": 142,
      "outputs": [
        {
          "output_type": "execute_result",
          "data": {
            "text/plain": [
              "10"
            ]
          },
          "metadata": {},
          "execution_count": 142
        }
      ]
    },
    {
      "cell_type": "code",
      "source": [
        "def hello(**kwargs):\n",
        "  # kwargs is like a dictionary\n",
        "  for key,value in kwargs.items():\n",
        "    print(key,value)\n",
        "\n",
        "hello(firstname=\"Machine\", lastname=\"Learning\")"
      ],
      "metadata": {
        "colab": {
          "base_uri": "https://localhost:8080/"
        },
        "id": "K64YDqIidg4P",
        "outputId": "edfb535e-a300-4eed-9d24-345a206cfa67"
      },
      "execution_count": 148,
      "outputs": [
        {
          "output_type": "stream",
          "name": "stdout",
          "text": [
            "firstname Machine\n",
            "lastname Learning\n"
          ]
        }
      ]
    },
    {
      "cell_type": "markdown",
      "source": [],
      "metadata": {
        "id": "t8K1oZkWviea"
      }
    },
    {
      "cell_type": "markdown",
      "source": [
        "#Class"
      ],
      "metadata": {
        "id": "dE-Ull3WvkTj"
      }
    },
    {
      "cell_type": "code",
      "source": [
        "# Defining a Class\n",
        "\n",
        "class Car:\n",
        "\n",
        "  def __init__(self, car_name, car_color):\n",
        "    self.namecar  = car_name\n",
        "    self.colorcar = car_color\n",
        "\n",
        "  def engine(self, eng=\"1000 cc\"):\n",
        "    print(f\"The car {self.namecar} whose color is {self.colorcar} has an engine of {eng}.\")\n",
        "\n"
      ],
      "metadata": {
        "id": "_duG4P6svoQl"
      },
      "execution_count": 152,
      "outputs": []
    },
    {
      "cell_type": "code",
      "source": [
        "# Instantiating  Objects for a Class\n",
        "A = Car(\"IGNIS\", \"blue\")\n",
        "A.engine()\n",
        "\n",
        "B = Car(\"GIMNI\", \"light green\")\n",
        "B.engine()"
      ],
      "metadata": {
        "colab": {
          "base_uri": "https://localhost:8080/"
        },
        "id": "sgwmADM2wylv",
        "outputId": "75846919-9e8d-4d30-fe8c-a59738e70426"
      },
      "execution_count": 155,
      "outputs": [
        {
          "output_type": "stream",
          "name": "stdout",
          "text": [
            "The car IGNIS whose color is blue has an engine of 1000 cc.\n",
            "The car GIMNI whose color is light green has an engine of 1000 cc.\n"
          ]
        }
      ]
    },
    {
      "cell_type": "code",
      "source": [
        "# Inheritance\n",
        "\n",
        "class Innova(Car):\n",
        "\n",
        "  def __init__(self, music_name, car_name, car_color):\n",
        "    super().__init__(car_name, car_color)\n",
        "    self.musicsystem = music_name\n",
        "\n",
        "\n",
        "  def music_system(self):\n",
        "    print(f\"{self.namecar} has a music system named {self.musicsystem} with car color as {self.colorcar}.\")"
      ],
      "metadata": {
        "id": "5YoIOTT16NaU"
      },
      "execution_count": 159,
      "outputs": []
    },
    {
      "cell_type": "code",
      "source": [
        "mycar = Innova(\"Dolby\", \"Innova Luxury\", \"Red\")\n",
        "\n",
        "mycar.music_system()\n",
        "mycar.engine()"
      ],
      "metadata": {
        "colab": {
          "base_uri": "https://localhost:8080/"
        },
        "id": "IAuiuR0L8l-g",
        "outputId": "a34f6bfc-f3cc-491e-a21b-927ee0520fbf"
      },
      "execution_count": 165,
      "outputs": [
        {
          "output_type": "stream",
          "name": "stdout",
          "text": [
            "Innova Luxury has a music system named Dolby with car color as Red.\n",
            "The car Innova Luxury whose color is Red has an engine of 1000 cc.\n"
          ]
        }
      ]
    }
  ]
}